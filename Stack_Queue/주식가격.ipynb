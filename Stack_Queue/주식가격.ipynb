초 단위로 기록된 주식가격이 담긴 배열 prices가 매개변수로 주어질 때, 가격이 떨어지지 않은 기간은 몇 초인지를 return 하도록 solution 함수를 완성하세요.

def solution(prices):
    answer = [0]*len(prices)
    for i in range(len(prices)-1):
        c=0
        for j in range(i+1,len(prices)):
            c+=1
            if prices[i]>prices[j]:
                break
        print(c)
        answer[i]+=c
    return answer

def solution(p):
    ans = [0] * len(p)
    stack = [0]					# 결정이 안 된 요소의 인자 번호들
    for i in range(1, len(p)):
        if p[i] < p[stack[-1]]:			# 감소가 일어났을 때
            for j in stack[::-1]:
                if p[i] < p[j]:
                    ans[j] = i-j		# ans 값을 결정
                    stack.remove(j)		# 결정된 값은 stack에서 제거
                else:
                    break
        stack.append(i)
    for i in range(0, len(stack)-1):
        ans[stack[i]] = len(p) - stack[i] - 1
    return ans
