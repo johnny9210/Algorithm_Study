n=int(input())
n_dict ={}
n_list = list(map(int,input().split()))
m= int(input())
m_list = list(map(int,input().split()))

for i in n_list:
    if(i in n_dict.keys()):
        n_dict[i]+=1
    else:
        n_dict[i]=1

ans =[]
for i in m_list:
    try:
        ans.append(n_dict[i])
    except:
        ans.append(0)
for i in ans:
    print(i,end=' ')
